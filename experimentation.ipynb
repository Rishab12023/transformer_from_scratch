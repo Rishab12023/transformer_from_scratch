{
 "cells": [
  {
   "cell_type": "code",
   "execution_count": 2,
   "id": "79db3198",
   "metadata": {},
   "outputs": [],
   "source": [
    "import torch\n",
    "import torch.nn as nn\n",
    "import math\n",
    "\n",
    "class InputEmbeddings(nn.Module):\n",
    "\n",
    "    def __init__(self, d_model: int, vocab_size: int):\n",
    "        super().__init__()\n",
    "        self.d_model = d_model\n",
    "        self.vocab_size = vocab_size\n",
    "        self.embedding = nn.Embedding(vocab_size, d_model)\n",
    "\n",
    "    def forward(self,x):\n",
    "        return self.embedding(x) \n",
    "    \n",
    "\n",
    "# if __name__ == \"__main__\":\n",
    "obj = InputEmbeddings(512,10000)\n"
   ]
  },
  {
   "cell_type": "code",
   "execution_count": 12,
   "id": "adcc9ae3",
   "metadata": {},
   "outputs": [
    {
     "name": "stdout",
     "output_type": "stream",
     "text": [
      "Parameter containing:\n",
      "tensor([[ 6.0430e-01,  7.5955e-01,  5.9045e-01,  ...,  3.4396e-01,\n",
      "          3.1660e-01, -1.1293e-01],\n",
      "        [ 2.5945e+00, -1.1159e+00, -8.2287e-01,  ..., -9.9228e-01,\n",
      "         -1.5557e-01,  9.0564e-01],\n",
      "        [-2.9468e+00, -1.3252e-01, -7.7744e-01,  ...,  5.0423e-01,\n",
      "         -1.3313e+00,  5.3194e-01],\n",
      "        ...,\n",
      "        [ 3.2879e-01, -4.3352e-01, -6.9503e-01,  ..., -2.3205e-01,\n",
      "          1.9717e+00,  1.0405e+00],\n",
      "        [-1.7839e+00, -5.0261e-01, -7.4572e-01,  ..., -4.8847e-01,\n",
      "         -1.3671e+00, -6.4738e-01],\n",
      "        [-2.4026e-03,  6.7048e-01, -1.0378e-02,  ..., -3.1983e-01,\n",
      "         -1.7940e-01, -9.8755e-01]], requires_grad=True)\n"
     ]
    }
   ],
   "source": [
    "print(obj.embedding.weight)"
   ]
  },
  {
   "cell_type": "code",
   "execution_count": 18,
   "id": "9cbf44ce",
   "metadata": {},
   "outputs": [
    {
     "name": "stdout",
     "output_type": "stream",
     "text": [
      "torch.Size([3])\n",
      "tensor([1, 2, 3])\n",
      "torch.Size([1, 3])\n",
      "tensor([[1, 2, 3]])\n"
     ]
    }
   ],
   "source": [
    "import torch\n",
    "x = torch.tensor([1, 2, 3])\n",
    "print(x.shape)  # torch.Size([3])\n",
    "print(x)\n",
    "x_unsqueezed = x.unsqueeze(0)  # Add a new dimension at dim=0\n",
    "print(x_unsqueezed.shape)  # torch.Size([1, 3])\n",
    "print(x_unsqueezed)\n",
    "# x_unsqueezed = x.unsqueeze(1)  # Add at dim=1\n",
    "# print(x_unsqueezed.shape)  # torch.Size([3, 1])\n",
    "# print(x_unsqueezed)"
   ]
  },
  {
   "cell_type": "code",
   "execution_count": 19,
   "id": "2b808800",
   "metadata": {},
   "outputs": [
    {
     "data": {
      "text/plain": [
       "tensor(2)"
      ]
     },
     "execution_count": 19,
     "metadata": {},
     "output_type": "execute_result"
    }
   ],
   "source": [
    "x_unsqueezed[0][1]"
   ]
  },
  {
   "cell_type": "code",
   "execution_count": 26,
   "id": "8c8fffbc",
   "metadata": {},
   "outputs": [],
   "source": [
    "def causal_mask(d_input_size: int):\n",
    "    mask =[[1]*d_input_size for _ in range(d_input_size)]\n",
    "    for row in range(len(mask)):\n",
    "        for col in range(len(mask[0])):\n",
    "            if row < col:\n",
    "                mask[row][col] = -1e9\n",
    "    return mask\n",
    "    \n",
    "\n"
   ]
  },
  {
   "cell_type": "code",
   "execution_count": 27,
   "id": "9da39b7b",
   "metadata": {},
   "outputs": [
    {
     "data": {
      "text/plain": [
       "[[1,\n",
       "  -1000000000.0,\n",
       "  -1000000000.0,\n",
       "  -1000000000.0,\n",
       "  -1000000000.0,\n",
       "  -1000000000.0],\n",
       " [1, 1, -1000000000.0, -1000000000.0, -1000000000.0, -1000000000.0],\n",
       " [1, 1, 1, -1000000000.0, -1000000000.0, -1000000000.0],\n",
       " [1, 1, 1, 1, -1000000000.0, -1000000000.0],\n",
       " [1, 1, 1, 1, 1, -1000000000.0],\n",
       " [1, 1, 1, 1, 1, 1]]"
      ]
     },
     "execution_count": 27,
     "metadata": {},
     "output_type": "execute_result"
    }
   ],
   "source": [
    "causal_mask(6)"
   ]
  },
  {
   "cell_type": "code",
   "execution_count": 28,
   "id": "903fadd4",
   "metadata": {},
   "outputs": [],
   "source": [
    "def causal_mask(size: int):\n",
    "    mask = torch.triu(torch.ones(1, size, size), diagonal=1).type(torch.int64)\n",
    "    return mask == 0"
   ]
  },
  {
   "cell_type": "code",
   "execution_count": 29,
   "id": "0ffdcc63",
   "metadata": {},
   "outputs": [
    {
     "data": {
      "text/plain": [
       "tensor([[[ True, False, False, False, False, False],\n",
       "         [ True,  True, False, False, False, False],\n",
       "         [ True,  True,  True, False, False, False],\n",
       "         [ True,  True,  True,  True, False, False],\n",
       "         [ True,  True,  True,  True,  True, False],\n",
       "         [ True,  True,  True,  True,  True,  True]]])"
      ]
     },
     "execution_count": 29,
     "metadata": {},
     "output_type": "execute_result"
    }
   ],
   "source": [
    "causal_mask(6)"
   ]
  },
  {
   "cell_type": "code",
   "execution_count": 66,
   "id": "16ec2abc",
   "metadata": {},
   "outputs": [],
   "source": [
    "sos_token = torch.rand(2,10).unsqueeze(1)\n",
    "input_token = torch.rand(2,3,10)\n",
    "# pad_token = torch.tensor([torch.rand(10) for _ in range(3)])"
   ]
  },
  {
   "cell_type": "code",
   "execution_count": 86,
   "id": "97d3e57d",
   "metadata": {},
   "outputs": [
    {
     "data": {
      "text/plain": [
       "torch.Size([2, 3, 10])"
      ]
     },
     "execution_count": 86,
     "metadata": {},
     "output_type": "execute_result"
    }
   ],
   "source": [
    "input_token.shape"
   ]
  },
  {
   "cell_type": "code",
   "execution_count": 67,
   "id": "71fa7cf8",
   "metadata": {},
   "outputs": [
    {
     "data": {
      "text/plain": [
       "torch.Size([2, 1, 10])"
      ]
     },
     "execution_count": 67,
     "metadata": {},
     "output_type": "execute_result"
    }
   ],
   "source": [
    "sos_token.shape"
   ]
  },
  {
   "cell_type": "code",
   "execution_count": 76,
   "id": "fe917c59",
   "metadata": {},
   "outputs": [],
   "source": [
    "pad_token = torch.stack([torch.rand(10) for _ in range(3)])"
   ]
  },
  {
   "cell_type": "code",
   "execution_count": 77,
   "id": "a9ca259a",
   "metadata": {},
   "outputs": [
    {
     "data": {
      "text/plain": [
       "torch.Size([3, 10])"
      ]
     },
     "execution_count": 77,
     "metadata": {},
     "output_type": "execute_result"
    }
   ],
   "source": [
    "pad_token.shape"
   ]
  },
  {
   "cell_type": "code",
   "execution_count": 80,
   "id": "ca979dac",
   "metadata": {},
   "outputs": [],
   "source": [
    "pad_token = pad_token.unsqueeze(0)"
   ]
  },
  {
   "cell_type": "code",
   "execution_count": 81,
   "id": "4734feeb",
   "metadata": {},
   "outputs": [
    {
     "data": {
      "text/plain": [
       "torch.Size([1, 3, 10])"
      ]
     },
     "execution_count": 81,
     "metadata": {},
     "output_type": "execute_result"
    }
   ],
   "source": [
    "pad_token.shape"
   ]
  },
  {
   "cell_type": "code",
   "execution_count": 83,
   "id": "426ea47d",
   "metadata": {},
   "outputs": [],
   "source": [
    "pad_token = pad_token.repeat(2,1,1)"
   ]
  },
  {
   "cell_type": "code",
   "execution_count": 85,
   "id": "72551f90",
   "metadata": {},
   "outputs": [
    {
     "data": {
      "text/plain": [
       "torch.Size([2, 3, 10])"
      ]
     },
     "execution_count": 85,
     "metadata": {},
     "output_type": "execute_result"
    }
   ],
   "source": [
    "pad_token.shape"
   ]
  },
  {
   "cell_type": "code",
   "execution_count": 88,
   "id": "aa6c77cd",
   "metadata": {},
   "outputs": [
    {
     "name": "stdout",
     "output_type": "stream",
     "text": [
      "torch.Size([2, 1, 10]) torch.Size([2, 3, 10]) torch.Size([2, 3, 10])\n"
     ]
    }
   ],
   "source": [
    "print(sos_token.shape\n",
    ",input_token.shape\n",
    ",pad_token.shape)"
   ]
  },
  {
   "cell_type": "code",
   "execution_count": 93,
   "id": "d347bad1",
   "metadata": {},
   "outputs": [],
   "source": [
    "t = torch.cat(\n",
    "    [sos_token,\n",
    "    input_token,\n",
    "    pad_token],\n",
    "    dim=1\n",
    "    )"
   ]
  },
  {
   "cell_type": "code",
   "execution_count": 94,
   "id": "43166504",
   "metadata": {},
   "outputs": [
    {
     "data": {
      "text/plain": [
       "torch.Size([2, 7, 10])"
      ]
     },
     "execution_count": 94,
     "metadata": {},
     "output_type": "execute_result"
    }
   ],
   "source": [
    "t.shape"
   ]
  },
  {
   "cell_type": "code",
   "execution_count": 95,
   "id": "a6dea3c8",
   "metadata": {},
   "outputs": [],
   "source": [
    "from pathlib import Path"
   ]
  },
  {
   "cell_type": "code",
   "execution_count": 96,
   "id": "98613c09",
   "metadata": {},
   "outputs": [
    {
     "name": "stdout",
     "output_type": "stream",
     "text": [
      ".\n"
     ]
    }
   ],
   "source": [
    "print(Path('.'))"
   ]
  },
  {
   "cell_type": "code",
   "execution_count": 98,
   "id": "cc581690",
   "metadata": {},
   "outputs": [
    {
     "name": "stdout",
     "output_type": "stream",
     "text": [
      "d:\\transformers\\transformer\\transformer_from_scratch\n"
     ]
    }
   ],
   "source": [
    "import os\n",
    "print(os.getcwd())"
   ]
  },
  {
   "cell_type": "code",
   "execution_count": 99,
   "id": "bb10c590",
   "metadata": {},
   "outputs": [
    {
     "ename": "NameError",
     "evalue": "name '__file__' is not defined",
     "output_type": "error",
     "traceback": [
      "\u001b[31m---------------------------------------------------------------------------\u001b[39m",
      "\u001b[31mNameError\u001b[39m                                 Traceback (most recent call last)",
      "\u001b[36mCell\u001b[39m\u001b[36m \u001b[39m\u001b[32mIn[99]\u001b[39m\u001b[32m, line 3\u001b[39m\n\u001b[32m      1\u001b[39m \u001b[38;5;28;01mfrom\u001b[39;00m\u001b[38;5;250m \u001b[39m\u001b[34;01mpathlib\u001b[39;00m\u001b[38;5;250m \u001b[39m\u001b[38;5;28;01mimport\u001b[39;00m Path\n\u001b[32m----> \u001b[39m\u001b[32m3\u001b[39m BASE_DIR = Path(\u001b[34;43m__file__\u001b[39;49m).parent.resolve()\n\u001b[32m      4\u001b[39m data_file = BASE_DIR / \u001b[33m\"\u001b[39m\u001b[33mdata\u001b[39m\u001b[33m\"\u001b[39m / \u001b[33m\"\u001b[39m\u001b[33minput.txt\u001b[39m\u001b[33m\"\u001b[39m\n",
      "\u001b[31mNameError\u001b[39m: name '__file__' is not defined"
     ]
    }
   ],
   "source": [
    "from pathlib import Path\n",
    "\n",
    "BASE_DIR = Path(__file__).parent.resolve()\n",
    "data_file = BASE_DIR / \"data\" / \"input.txt\"\n"
   ]
  },
  {
   "cell_type": "code",
   "execution_count": null,
   "id": "34a6dfb8",
   "metadata": {},
   "outputs": [],
   "source": []
  }
 ],
 "metadata": {
  "kernelspec": {
   "display_name": ".venv",
   "language": "python",
   "name": "python3"
  },
  "language_info": {
   "codemirror_mode": {
    "name": "ipython",
    "version": 3
   },
   "file_extension": ".py",
   "mimetype": "text/x-python",
   "name": "python",
   "nbconvert_exporter": "python",
   "pygments_lexer": "ipython3",
   "version": "3.11.11"
  }
 },
 "nbformat": 4,
 "nbformat_minor": 5
}
