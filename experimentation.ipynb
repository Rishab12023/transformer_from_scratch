{
 "cells": [
  {
   "cell_type": "code",
   "execution_count": 2,
   "id": "79db3198",
   "metadata": {},
   "outputs": [],
   "source": [
    "import torch\n",
    "import torch.nn as nn\n",
    "import math\n",
    "\n",
    "class InputEmbeddings(nn.Module):\n",
    "\n",
    "    def __init__(self, d_model: int, vocab_size: int):\n",
    "        super().__init__()\n",
    "        self.d_model = d_model\n",
    "        self.vocab_size = vocab_size\n",
    "        self.embedding = nn.Embedding(vocab_size, d_model)\n",
    "\n",
    "    def forward(self,x):\n",
    "        return self.embedding(x) \n",
    "    \n",
    "\n",
    "# if __name__ == \"__main__\":\n",
    "obj = InputEmbeddings(512,10000)\n"
   ]
  },
  {
   "cell_type": "code",
   "execution_count": 12,
   "id": "adcc9ae3",
   "metadata": {},
   "outputs": [
    {
     "name": "stdout",
     "output_type": "stream",
     "text": [
      "Parameter containing:\n",
      "tensor([[ 6.0430e-01,  7.5955e-01,  5.9045e-01,  ...,  3.4396e-01,\n",
      "          3.1660e-01, -1.1293e-01],\n",
      "        [ 2.5945e+00, -1.1159e+00, -8.2287e-01,  ..., -9.9228e-01,\n",
      "         -1.5557e-01,  9.0564e-01],\n",
      "        [-2.9468e+00, -1.3252e-01, -7.7744e-01,  ...,  5.0423e-01,\n",
      "         -1.3313e+00,  5.3194e-01],\n",
      "        ...,\n",
      "        [ 3.2879e-01, -4.3352e-01, -6.9503e-01,  ..., -2.3205e-01,\n",
      "          1.9717e+00,  1.0405e+00],\n",
      "        [-1.7839e+00, -5.0261e-01, -7.4572e-01,  ..., -4.8847e-01,\n",
      "         -1.3671e+00, -6.4738e-01],\n",
      "        [-2.4026e-03,  6.7048e-01, -1.0378e-02,  ..., -3.1983e-01,\n",
      "         -1.7940e-01, -9.8755e-01]], requires_grad=True)\n"
     ]
    }
   ],
   "source": [
    "print(obj.embedding.weight)"
   ]
  },
  {
   "cell_type": "code",
   "execution_count": 18,
   "id": "9cbf44ce",
   "metadata": {},
   "outputs": [
    {
     "name": "stdout",
     "output_type": "stream",
     "text": [
      "torch.Size([3])\n",
      "tensor([1, 2, 3])\n",
      "torch.Size([1, 3])\n",
      "tensor([[1, 2, 3]])\n"
     ]
    }
   ],
   "source": [
    "import torch\n",
    "x = torch.tensor([1, 2, 3])\n",
    "print(x.shape)  # torch.Size([3])\n",
    "print(x)\n",
    "x_unsqueezed = x.unsqueeze(0)  # Add a new dimension at dim=0\n",
    "print(x_unsqueezed.shape)  # torch.Size([1, 3])\n",
    "print(x_unsqueezed)\n",
    "# x_unsqueezed = x.unsqueeze(1)  # Add at dim=1\n",
    "# print(x_unsqueezed.shape)  # torch.Size([3, 1])\n",
    "# print(x_unsqueezed)"
   ]
  },
  {
   "cell_type": "code",
   "execution_count": 19,
   "id": "2b808800",
   "metadata": {},
   "outputs": [
    {
     "data": {
      "text/plain": [
       "tensor(2)"
      ]
     },
     "execution_count": 19,
     "metadata": {},
     "output_type": "execute_result"
    }
   ],
   "source": [
    "x_unsqueezed[0][1]"
   ]
  },
  {
   "cell_type": "code",
   "execution_count": null,
   "id": "8c8fffbc",
   "metadata": {},
   "outputs": [],
   "source": []
  }
 ],
 "metadata": {
  "kernelspec": {
   "display_name": ".venv",
   "language": "python",
   "name": "python3"
  },
  "language_info": {
   "codemirror_mode": {
    "name": "ipython",
    "version": 3
   },
   "file_extension": ".py",
   "mimetype": "text/x-python",
   "name": "python",
   "nbconvert_exporter": "python",
   "pygments_lexer": "ipython3",
   "version": "3.11.11"
  }
 },
 "nbformat": 4,
 "nbformat_minor": 5
}
